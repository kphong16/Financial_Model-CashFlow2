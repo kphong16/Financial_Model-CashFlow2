{
 "cells": [
  {
   "cell_type": "code",
   "execution_count": 1,
   "metadata": {},
   "outputs": [],
   "source": [
    "import importlib\n",
    "import pandas as pd\n",
    "from pandas import Series, DataFrame\n",
    "import numpy as np\n",
    "from datetime import datetime\n",
    "from datetime import date\n",
    "from datetime import timedelta"
   ]
  },
  {
   "cell_type": "code",
   "execution_count": 5,
   "metadata": {},
   "outputs": [],
   "source": [
    "import cafle as cf\n",
    "from cafle.genfunc import rounding as R"
   ]
  },
  {
   "cell_type": "code",
   "execution_count": 6,
   "metadata": {},
   "outputs": [
    {
     "name": "stdout",
     "output_type": "stream",
     "text": [
      "40 200\n"
     ]
    }
   ],
   "source": [
    "pd.options.display.max_columns = 40\n",
    "pd.options.display.max_rows = 200\n",
    "print(pd.get_option(\"display.max_columns\"), \n",
    "      pd.get_option(\"display.max_rows\"))"
   ]
  },
  {
   "cell_type": "markdown",
   "metadata": {},
   "source": [
    "# Introduction\n",
    "* This is an example created by applying an actual case."
   ]
  },
  {
   "cell_type": "markdown",
   "metadata": {},
   "source": [
    "# Input Index Data"
   ]
  },
  {
   "cell_type": "code",
   "execution_count": 17,
   "metadata": {},
   "outputs": [],
   "source": [
    "# Set period index\n",
    "# prjt index : total project periods, and project base index\n",
    "# cstrn index : construction index\n",
    "# loan index : loan period index\n",
    "# sales index : sales period index\n",
    "\n",
    "idx = cf.PrjtIndex(idxname=['prjt', 'cstrn', 'loan', 'sales'], \n",
    "                   start=['2021-04', '2022-03', '2021-05', '2022-05'],\n",
    "                   periods=[54+1, 42+1, 55+1, 40+1],\n",
    "                   freq='M')"
   ]
  },
  {
   "cell_type": "markdown",
   "metadata": {},
   "source": [
    "# Input Sales Data"
   ]
  },
  {
   "cell_type": "code",
   "execution_count": 23,
   "metadata": {},
   "outputs": [],
   "source": [
    "# Cash inflow assumption on sales contract\n",
    "class Astn_sls_cls:\n",
    "    pass\n",
    "astn_sls = Astn_sls_cls()\n",
    "\n",
    "# Assumption of the payment schedule(deposit, middle payment, balance)\n",
    "astn_sls.csh1 = [[idx.sales.locno(2022, 5), 0.1],\n",
    "                 [idx.sales.locno(2023, 1), 0.2],\n",
    "                 [idx.sales.locno(2023, 9), 0.2],\n",
    "                 [idx.sales.locno(2024, 5), 0.2],\n",
    "                 [idx.sales.locno(2025, 1), 0.2],\n",
    "                 [idx.sales.locno(2025, 9), 0.1]]\n",
    "astn_sls.csh2 = [[idx.sales.locno(2022, 11), 0.1],\n",
    "                 [idx.sales.locno(2023, 5), 0.2],\n",
    "                 [idx.sales.locno(2023, 11), 0.2],\n",
    "                 [idx.sales.locno(2024, 5), 0.2],\n",
    "                 [idx.sales.locno(2024, 11), 0.2],\n",
    "                 [idx.sales.locno(2025, 9), 0.1]]\n",
    "astn_sls.csh3 = [[idx.sales.locno(2023, 5), 0.1],\n",
    "                 [idx.sales.locno(2023, 10), 0.2],\n",
    "                 [idx.sales.locno(2024, 3), 0.2],\n",
    "                 [idx.sales.locno(2024, 8), 0.2],\n",
    "                 [idx.sales.locno(2025, 1), 0.2],\n",
    "                 [idx.sales.locno(2025, 9), 0.1]]\n",
    "astn_sls.csh4 = [[idx.sales.locno(2023, 11), 0.1],\n",
    "                 [idx.sales.locno(2024, 3), 0.2],\n",
    "                 [idx.sales.locno(2024, 7), 0.2],\n",
    "                 [idx.sales.locno(2024, 11), 0.2],\n",
    "                 [idx.sales.locno(2025, 3), 0.2],\n",
    "                 [idx.sales.locno(2025, 9), 0.1]]\n",
    "astn_sls.csh5 = [[idx.sales.locno(2024, 5), 0.1],\n",
    "                 [idx.sales.locno(2024, 8), 0.2],\n",
    "                 [idx.sales.locno(2024, 11), 0.2],\n",
    "                 [idx.sales.locno(2025, 2), 0.2],\n",
    "                 [idx.sales.locno(2025, 5), 0.2],\n",
    "                 [idx.sales.locno(2025, 9), 0.1]]\n",
    "astn_sls.csh6 = [[idx.sales.locno(2024, 11), 0.1],\n",
    "                 [idx.sales.locno(2025, 1), 0.2],\n",
    "                 [idx.sales.locno(2025, 3), 0.2],\n",
    "                 [idx.sales.locno(2025, 5), 0.2],\n",
    "                 [idx.sales.locno(2025, 7), 0.2],\n",
    "                 [idx.sales.locno(2025, 9), 0.1]]"
   ]
  },
  {
   "cell_type": "code",
   "execution_count": 24,
   "metadata": {},
   "outputs": [
    {
     "data": {
      "text/plain": [
       "[[0, 0.1], [8, 0.2], [16, 0.2], [24, 0.2], [32, 0.2], [40, 0.1]]"
      ]
     },
     "execution_count": 24,
     "metadata": {},
     "output_type": "execute_result"
    }
   ],
   "source": [
    "astn_sls.csh1"
   ]
  },
  {
   "cell_type": "code",
   "execution_count": 22,
   "metadata": {},
   "outputs": [
    {
     "data": {
      "text/plain": [
       "datetime.date(2025, 9, 30)"
      ]
     },
     "execution_count": 22,
     "metadata": {},
     "output_type": "execute_result"
    }
   ],
   "source": [
    "idx.sales[-1]"
   ]
  },
  {
   "cell_type": "code",
   "execution_count": null,
   "metadata": {},
   "outputs": [],
   "source": []
  }
 ],
 "metadata": {
  "kernelspec": {
   "display_name": "Python 3",
   "language": "python",
   "name": "python3"
  },
  "language_info": {
   "codemirror_mode": {
    "name": "ipython",
    "version": 3
   },
   "file_extension": ".py",
   "mimetype": "text/x-python",
   "name": "python",
   "nbconvert_exporter": "python",
   "pygments_lexer": "ipython3",
   "version": "3.7.6"
  }
 },
 "nbformat": 4,
 "nbformat_minor": 4
}
