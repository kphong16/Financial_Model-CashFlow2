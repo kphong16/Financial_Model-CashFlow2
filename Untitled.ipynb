{
 "cells": [
  {
   "cell_type": "code",
   "execution_count": 1,
   "metadata": {},
   "outputs": [],
   "source": [
    "import pandas as pd\n",
    "from pandas import Series, DataFrame\n",
    "import numpy as np\n",
    "import PrjtCF_module as cf"
   ]
  },
  {
   "cell_type": "code",
   "execution_count": 15,
   "metadata": {},
   "outputs": [],
   "source": [
    "# 기간 Index 설정\n",
    "# prjt index : 사업기간 전 기간에 대한 index로 모델의 base가 되는 index\n",
    "# cstrn index : 공사기간에 대한 index로 착공일로부터 준공일까지의 기간\n",
    "# loan index : 대출기간에 대한 index로 대출 실행일로부터 대출 상환일 까지의 기간\n",
    "# sales index : 분양기간에 대한 index로 분양개시일로부터 분양종료일 까지의 기간\n",
    "idx = cf.PrjtIndex(idxname=['prjt', 'cstrn', 'loan', 'sales'],\n",
    "                   start=['2021-08', '2021-10', '2021-10', '2021-12'],\n",
    "                   periods=[24+1, 18+1, 20+1, 16+1],\n",
    "                   freq='M')\n",
    "\n",
    "# 공정률 Series 설정 : cstrn index 기간 중 적용되는 기간별 공정률 설정\n",
    "idx.prcs = Series(np.ones(len(idx.cstrn)) / len(idx.cstrn),\n",
    "                  index=idx.cstrn.index)"
   ]
  },
  {
   "cell_type": "code",
   "execution_count": 16,
   "metadata": {},
   "outputs": [],
   "source": [
    "equity = cf.Loan(idx, idx, amt_ntnl=10_000)\n",
    "\n",
    "dct_loan = {}\n",
    "tra = cf.Loan(idx, idx.loan, amt_ntnl=100_000,\n",
    "              rate_fee = 0.01,\n",
    "              rate_IR = 0.05)\n",
    "dct_loan['tra'] = tra\n",
    "\n",
    "trb = cf.Loan(idx, idx.loan, amt_ntnl=30_000,\n",
    "              rate_fee = 0.03,\n",
    "              rate_IR = 0.07)\n",
    "dct_loan['trb'] = trb\n",
    "\n",
    "loan = cf.Merge(dct_loan)\n",
    "loan.tra = loan.dct['tra']\n",
    "loan.trb = loan.dct['trb']"
   ]
  },
  {
   "cell_type": "code",
   "execution_count": null,
   "metadata": {},
   "outputs": [],
   "source": []
  },
  {
   "cell_type": "code",
   "execution_count": 46,
   "metadata": {},
   "outputs": [],
   "source": [
    "class aaa(cf.Merge):\n",
    "    @property\n",
    "    def fee(self):\n",
    "        tmp_dct = {key:val.fee for key, val in self.dct.items()}\n",
    "        rslt_acc = cf.Merge(tmp_dct)\n",
    "        print()\n",
    "        return rslt_acc"
   ]
  },
  {
   "cell_type": "code",
   "execution_count": 47,
   "metadata": {},
   "outputs": [],
   "source": [
    "k = aaa(dct_loan)"
   ]
  },
  {
   "cell_type": "code",
   "execution_count": null,
   "metadata": {},
   "outputs": [],
   "source": [
    "k.dct"
   ]
  },
  {
   "cell_type": "code",
   "execution_count": 32,
   "metadata": {},
   "outputs": [
    {
     "name": "stdout",
     "output_type": "stream",
     "text": [
      "                 add_scdd  sub_scdd  bal_strt  amt_add  amt_sub  bal_end\n",
      "2021-08-31       0.000000       0.0       0.0      0.0      0.0      0.0\n",
      "2021-09-30       0.000000       0.0       0.0      0.0      0.0      0.0\n",
      "2021-10-31    1000.000000  100000.0       0.0      0.0      0.0      0.0\n",
      "2021-11-30     416.666667       0.0       0.0      0.0      0.0      0.0\n",
      "2021-12-31     416.666667       0.0       0.0      0.0      0.0      0.0\n",
      "2022-01-31     416.666667       0.0       0.0      0.0      0.0      0.0\n",
      "2022-02-28     416.666667       0.0       0.0      0.0      0.0      0.0\n",
      "2022-03-31     416.666667       0.0       0.0      0.0      0.0      0.0\n",
      "2022-04-30     416.666667       0.0       0.0      0.0      0.0      0.0\n",
      "2022-05-31     416.666667       0.0       0.0      0.0      0.0      0.0\n",
      "2022-06-30     416.666667       0.0       0.0      0.0      0.0      0.0\n",
      "2022-07-31     416.666667       0.0       0.0      0.0      0.0      0.0\n",
      "2022-08-31     416.666667       0.0       0.0      0.0      0.0      0.0\n",
      "2022-09-30     416.666667       0.0       0.0      0.0      0.0      0.0\n",
      "2022-10-31     416.666667       0.0       0.0      0.0      0.0      0.0\n",
      "2022-11-30     416.666667       0.0       0.0      0.0      0.0      0.0\n",
      "2022-12-31     416.666667       0.0       0.0      0.0      0.0      0.0\n",
      "2023-01-31     416.666667       0.0       0.0      0.0      0.0      0.0\n",
      "2023-02-28     416.666667       0.0       0.0      0.0      0.0      0.0\n",
      "2023-03-31     416.666667       0.0       0.0      0.0      0.0      0.0\n",
      "2023-04-30     416.666667       0.0       0.0      0.0      0.0      0.0\n",
      "2023-05-31     416.666667       0.0       0.0      0.0      0.0      0.0\n",
      "2023-06-30  100416.666667       0.0       0.0      0.0      0.0      0.0\n",
      "2023-07-31       0.000000       0.0       0.0      0.0      0.0      0.0\n",
      "2023-08-31       0.000000       0.0       0.0      0.0      0.0      0.0\n",
      "            add_scdd  sub_scdd  bal_strt  amt_add  amt_sub  bal_end\n",
      "2021-08-31       0.0       0.0       0.0      0.0      0.0      0.0\n",
      "2021-09-30       0.0       0.0       0.0      0.0      0.0      0.0\n",
      "2021-10-31     900.0   30000.0       0.0      0.0      0.0      0.0\n",
      "2021-11-30     175.0       0.0       0.0      0.0      0.0      0.0\n",
      "2021-12-31     175.0       0.0       0.0      0.0      0.0      0.0\n",
      "2022-01-31     175.0       0.0       0.0      0.0      0.0      0.0\n",
      "2022-02-28     175.0       0.0       0.0      0.0      0.0      0.0\n",
      "2022-03-31     175.0       0.0       0.0      0.0      0.0      0.0\n",
      "2022-04-30     175.0       0.0       0.0      0.0      0.0      0.0\n",
      "2022-05-31     175.0       0.0       0.0      0.0      0.0      0.0\n",
      "2022-06-30     175.0       0.0       0.0      0.0      0.0      0.0\n",
      "2022-07-31     175.0       0.0       0.0      0.0      0.0      0.0\n",
      "2022-08-31     175.0       0.0       0.0      0.0      0.0      0.0\n",
      "2022-09-30     175.0       0.0       0.0      0.0      0.0      0.0\n",
      "2022-10-31     175.0       0.0       0.0      0.0      0.0      0.0\n",
      "2022-11-30     175.0       0.0       0.0      0.0      0.0      0.0\n",
      "2022-12-31     175.0       0.0       0.0      0.0      0.0      0.0\n",
      "2023-01-31     175.0       0.0       0.0      0.0      0.0      0.0\n",
      "2023-02-28     175.0       0.0       0.0      0.0      0.0      0.0\n",
      "2023-03-31     175.0       0.0       0.0      0.0      0.0      0.0\n",
      "2023-04-30     175.0       0.0       0.0      0.0      0.0      0.0\n",
      "2023-05-31     175.0       0.0       0.0      0.0      0.0      0.0\n",
      "2023-06-30   30175.0       0.0       0.0      0.0      0.0      0.0\n",
      "2023-07-31       0.0       0.0       0.0      0.0      0.0      0.0\n",
      "2023-08-31       0.0       0.0       0.0      0.0      0.0      0.0\n"
     ]
    }
   ],
   "source": [
    "for val in dct_loan.values():\n",
    "    print(val.df)"
   ]
  },
  {
   "cell_type": "code",
   "execution_count": 30,
   "metadata": {},
   "outputs": [
    {
     "data": {
      "text/plain": [
       "dict_items([('tra', <PrjtCF_module.loan.Loan object at 0x7ffbb1d1a610>), ('trb', <PrjtCF_module.loan.Loan object at 0x7ffbb1d2c210>)])"
      ]
     },
     "execution_count": 30,
     "metadata": {},
     "output_type": "execute_result"
    }
   ],
   "source": [
    "dct_loan.items()"
   ]
  },
  {
   "cell_type": "code",
   "execution_count": null,
   "metadata": {},
   "outputs": [],
   "source": []
  }
 ],
 "metadata": {
  "kernelspec": {
   "display_name": "Python 3",
   "language": "python",
   "name": "python3"
  },
  "language_info": {
   "codemirror_mode": {
    "name": "ipython",
    "version": 3
   },
   "file_extension": ".py",
   "mimetype": "text/x-python",
   "name": "python",
   "nbconvert_exporter": "python",
   "pygments_lexer": "ipython3",
   "version": "3.7.6"
  }
 },
 "nbformat": 4,
 "nbformat_minor": 4
}
