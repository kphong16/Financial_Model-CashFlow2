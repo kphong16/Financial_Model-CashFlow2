{
 "cells": [
  {
   "cell_type": "code",
   "execution_count": 6,
   "metadata": {},
   "outputs": [],
   "source": [
    "import importlib\n",
    "import pandas as pd\n",
    "from pandas import Series, DataFrame\n",
    "import numpy as np\n",
    "from datetime import datetime\n",
    "from datetime import date\n",
    "from datetime import timedelta"
   ]
  },
  {
   "cell_type": "code",
   "execution_count": 7,
   "metadata": {},
   "outputs": [],
   "source": [
    "import PrjtCF_module as cf"
   ]
  },
  {
   "cell_type": "code",
   "execution_count": 8,
   "metadata": {},
   "outputs": [],
   "source": [
    "from PrjtCF_module import genfunc\n",
    "from PrjtCF_module.index import Index, PrjtIndex\n",
    "from PrjtCF_module.account import Account, Merge\n",
    "from PrjtCF_module.loan import Loan, Merge_loan"
   ]
  },
  {
   "cell_type": "code",
   "execution_count": 9,
   "metadata": {},
   "outputs": [
    {
     "name": "stdout",
     "output_type": "stream",
     "text": [
      "40 200\n"
     ]
    }
   ],
   "source": [
    "pd.options.display.max_columns = 40\n",
    "pd.options.display.max_rows = 200\n",
    "print(pd.get_option(\"display.max_columns\"), pd.get_option(\"display.max_rows\"))"
   ]
  },
  {
   "cell_type": "code",
   "execution_count": 10,
   "metadata": {},
   "outputs": [],
   "source": [
    "# Setting period index\n",
    "# prjt index : total project periods, and project base index\n",
    "# cstrn index : construction index. Period from the construction to the completion.\n",
    "# loan index : loan period index. Period from the loan execution date to the maturity.\n",
    "# sales index : sales period index. Period from the sales start date to the end date.\n",
    "idx = cf.PrjtIndex(idxname=['prjt', 'cstrn', 'loan', 'sales'],\n",
    "                   start=['2021-11', '2021-12', '2021-11', '2021-12'],\n",
    "                   periods=[26+1, 20+1, 24+1, 23+1],\n",
    "                   freq='M')\n",
    "\n",
    "# Setting a construction progress rate\n",
    "idx.prcs = Series(np.ones(len(idx.cstrn)) / len(idx.cstrn),\n",
    "                  index=idx.cstrn.index)"
   ]
  },
  {
   "cell_type": "markdown",
   "metadata": {},
   "source": [
    "# Input Financing Condition Data"
   ]
  },
  {
   "cell_type": "code",
   "execution_count": 11,
   "metadata": {},
   "outputs": [],
   "source": [
    "loan = cf.Intlz_loan(idx, idx.loan,\n",
    "                  title = ['tra', 'trb'],\n",
    "                  amt_ntnl=[65_000, 20_000],\n",
    "                  rate_fee = [0.01, 0.03],\n",
    "                  rate_IR = [0.05, 0.07])"
   ]
  },
  {
   "cell_type": "markdown",
   "metadata": {},
   "source": [
    "# Input Sales Data"
   ]
  },
  {
   "cell_type": "code",
   "execution_count": 12,
   "metadata": {},
   "outputs": [],
   "source": [
    "# Cash inflow assumption on sales contract\n",
    "class Asmptn_sls_cls:\n",
    "    pass\n",
    "astn_sls = Asmptn_sls_cls()\n",
    "\n",
    "astn_sls.cshA = [[0, 0.1],\n",
    "                 [4, 0.1],\n",
    "                 [8, 0.1],\n",
    "                 [12, 0.1],\n",
    "                 [16, 0.1],\n",
    "                 [21, 0.5]]\n",
    "\n",
    "astn_sls.cshB = [[0, 0.1],\n",
    "                 [5, 0.1],\n",
    "                 [10, 0.1],\n",
    "                 [15, 0.1],\n",
    "                 [21, 0.6]]\n",
    "\n",
    "astn_sls.ctrtA = [[0, 0.1],\n",
    "                  [2, 0.1],\n",
    "                  [4, 0.1],\n",
    "                  [6, 0.1],\n",
    "                  [8, 0.1],\n",
    "                  [10, 0.1],\n",
    "                  [12, 0.1],\n",
    "                  [14, 0.1],\n",
    "                  [16, 0.1],\n",
    "                  [18, 0.1]]"
   ]
  },
  {
   "cell_type": "code",
   "execution_count": 13,
   "metadata": {},
   "outputs": [],
   "source": [
    "class Intlz_sales_sellinlots:\n",
    "    \"\"\"\n",
    "    schedule array sample\n",
    "    [[0, 0.1],\n",
    "     [4, 0.3],\n",
    "     [8, 0.3],\n",
    "     [12, 0.3]]\n",
    "    \"\"\"\n",
    "    def __init__(self,\n",
    "                 index, # basic index class\n",
    "                 idxsls = None, # financial index class\n",
    "                 title = [], # list, sales name\n",
    "                 amt = [], # list/int, total sales amount\n",
    "                 csh_scdd = [], # list/ cash schedule array\n",
    "                 ctrt_scdd = [], # list/ contract schedule array\n",
    "                 ):\n",
    "        # index 입력\n",
    "        self.index = index\n",
    "        if idxsls == None:\n",
    "            idxsls = index\n",
    "        self.idxsls = idxsls\n",
    "            \n",
    "        # 주요 변수 입력\n",
    "        self.title = title\n",
    "        self.len = len(title)\n",
    "        self.amt = amt\n",
    "        self.csh_scdd = csh_scdd\n",
    "        self.ctrt_scdd = ctrt_scdd\n",
    "        \n",
    "        self.dct = {}\n",
    "        self._intlz()\n",
    "        \n",
    "    def __len__(self):\n",
    "        return self.len\n",
    "    \n",
    "    def _intlz(self):\n",
    "        for i, key in enumerate(self.title):\n",
    "            tmp_acc = Account(self.index)\n",
    "            setattr(self, key, tmp_acc)\n",
    "            \n",
    "            tmp_title = getattr(self, key)\n",
    "            tmp_amt = self.amt[i]\n",
    "            setattr(tmp_title, 'amt', tmp_amt)\n",
    "            \n",
    "            tmp_csh_idx = self.idxsls[[x[0] for x in self.csh_scdd[i]]]\n",
    "            setattr(tmp_title, 'csh_idx', tmp_csh_idx)\n",
    "            \n",
    "            tmp_csh_rate = Series([x[1] for x in self.csh_scdd[i]],\n",
    "                                  index=tmp_csh_idx)\n",
    "            setattr(tmp_title, 'csh_rate', tmp_csh_rate)\n",
    "\n",
    "            tmp_ctrt_idx = idx.sales[[x[0] for x in self.ctrt_scdd[i]]]\n",
    "            tmp_ctrt_rate = Series([x[1] for x in self.ctrt_scdd[i]],\n",
    "                                   index=tmp_ctrt_idx)\n",
    "            setattr(tmp_title, 'ctrt_rate', tmp_ctrt_rate)\n",
    "            \n",
    "            tmp_ctrt_plan = tmp_amt * tmp_ctrt_rate\n",
    "            setattr(tmp_title, 'ctrt_plan', tmp_ctrt_plan)"
   ]
  },
  {
   "cell_type": "code",
   "execution_count": 14,
   "metadata": {},
   "outputs": [],
   "source": [
    "k = Intlz_sales_sellinlots(idx, idx.sales, \n",
    "                           title=['salesA', 'salesB'], \n",
    "                           amt=[110_000, 30_000],\n",
    "                           csh_scdd=[astn_sls.cshA, astn_sls.cshB],\n",
    "                           ctrt_scdd=[astn_sls.ctrtA, astn_sls.ctrtA])"
   ]
  },
  {
   "cell_type": "code",
   "execution_count": 15,
   "metadata": {},
   "outputs": [
    {
     "data": {
      "text/plain": [
       "2021-12-31    3000.0\n",
       "2022-02-28    3000.0\n",
       "2022-04-30    3000.0\n",
       "2022-06-30    3000.0\n",
       "2022-08-31    3000.0\n",
       "2022-10-31    3000.0\n",
       "2022-12-31    3000.0\n",
       "2023-02-28    3000.0\n",
       "2023-04-30    3000.0\n",
       "2023-06-30    3000.0\n",
       "dtype: float64"
      ]
     },
     "execution_count": 15,
     "metadata": {},
     "output_type": "execute_result"
    }
   ],
   "source": [
    "k.salesB.ctrt_plan"
   ]
  },
  {
   "cell_type": "code",
   "execution_count": 16,
   "metadata": {},
   "outputs": [],
   "source": [
    "class Intlz_cost:\n",
    "    def __init__(self,\n",
    "                 index, # basic index class\n",
    "                 idxcst = None, # cost index class\n",
    "                 ):\n",
    "        # Input index\n",
    "        self.index = index\n",
    "        if idxcst == None:\n",
    "            idxcst = index\n",
    "        self.idxcst = idxcst\n",
    "        \n",
    "        self.title = []\n",
    "        \n",
    "        self.dct = {}\n",
    "        self._intlz()\n",
    "        \n",
    "    def __len__(self):\n",
    "        return len(title)\n",
    "    \n",
    "    def _intlz(self):\n",
    "        pass\n",
    "    \n",
    "    def inptcst(self,\n",
    "                title, # str\n",
    "                scddidx, # list\n",
    "                scddamt, # list\n",
    "                **kwargs):\n",
    "        self.title.append(title)\n",
    "        tmp_acc = Account(self.index)\n",
    "        self.dct[title] = tmp_acc\n",
    "        setattr(self, title, tmp_acc)\n",
    "        \n",
    "        tmp_acc.addscdd(scddidx, scddamt)\n",
    "        \n",
    "        for key, val in kwargs.items():\n",
    "            setattr(tmp_acc, key, val)\n",
    "            \n",
    "    @property\n",
    "    def ttl(self):\n",
    "        tmp_ttl = Merge(self.dct)\n",
    "        for i, key in enumerate(self.title):\n",
    "            setattr(tmp_ttl, key, getattr(self, key))\n",
    "        return tmp_ttl"
   ]
  },
  {
   "cell_type": "code",
   "execution_count": 17,
   "metadata": {},
   "outputs": [],
   "source": [
    "cost=Intlz_cost(idx)"
   ]
  },
  {
   "cell_type": "code",
   "execution_count": 18,
   "metadata": {},
   "outputs": [],
   "source": [
    "cost.inptcst('lnd',\n",
    "            idx.cstrn[0],\n",
    "            30_000)\n",
    "\n",
    "cost.inptcst('cstrn',\n",
    "            idx.cstrn.index,\n",
    "            80_000 * idx.prcs,\n",
    "            feerateA=0.03, \n",
    "            feerateB=0.05)\n"
   ]
  },
  {
   "cell_type": "code",
   "execution_count": 19,
   "metadata": {},
   "outputs": [
    {
     "data": {
      "text/plain": [
       "0.03"
      ]
     },
     "execution_count": 19,
     "metadata": {},
     "output_type": "execute_result"
    }
   ],
   "source": [
    "cost.cstrn.feerateA"
   ]
  },
  {
   "cell_type": "code",
   "execution_count": 29,
   "metadata": {},
   "outputs": [
    {
     "data": {
      "text/plain": [
       "True"
      ]
     },
     "execution_count": 29,
     "metadata": {},
     "output_type": "execute_result"
    }
   ],
   "source": [
    "all([True, True, True])"
   ]
  },
  {
   "cell_type": "code",
   "execution_count": 27,
   "metadata": {},
   "outputs": [
    {
     "data": {
      "text/plain": [
       "dict_values([<PrjtCF_module.account.Account object at 0x7fd2f3e6df90>, <PrjtCF_module.account.Account object at 0x7fd2f3e4cad0>])"
      ]
     },
     "execution_count": 27,
     "metadata": {},
     "output_type": "execute_result"
    }
   ],
   "source": [
    "cost.dct.values()"
   ]
  },
  {
   "cell_type": "code",
   "execution_count": 26,
   "metadata": {},
   "outputs": [],
   "source": [
    "dict?"
   ]
  },
  {
   "cell_type": "code",
   "execution_count": null,
   "metadata": {},
   "outputs": [],
   "source": [
    "    def _intlz(self):\n",
    "        for i, key in enumerate(self.title):\n",
    "            tmp_acc = Account(self.index)\n",
    "            self.dct[key] = tmp_acc\n",
    "            setattr(self, key, tmp_acc)\n",
    "            \n",
    "            tmp_title = getattr(self, key)\n",
    "            tmp_amt = self.amt[i]\n",
    "            setattr(tmp_title, 'amt', tmp_amt)\n",
    "            \n",
    "            tmp_csh_idx = self.idxsls[[x[0] for x in self.csh_scdd[i]]]\n",
    "            setattr(tmp_title, 'csh_idx', tmp_csh_idx)\n",
    "            \n",
    "            tmp_csh_rate = Series([x[1] for x in self.csh_scdd[i]],\n",
    "                                  index=tmp_csh_idx)\n",
    "            setattr(tmp_title, 'csh_rate', tmp_csh_rate)\n",
    "\n",
    "            tmp_ctrt_idx = self.idxsls[[x[0] for x in self.ctrt_scdd[i]]]\n",
    "            tmp_ctrt_rate = Series([x[1] for x in self.ctrt_scdd[i]],\n",
    "                                   index=tmp_ctrt_idx)\n",
    "            setattr(tmp_title, 'ctrt_rate', tmp_ctrt_rate)\n",
    "            \n",
    "            tmp_ctrt_plan = tmp_amt * tmp_ctrt_rate\n",
    "            setattr(tmp_title, 'ctrt_plan', tmp_ctrt_plan)\n",
    "            \n",
    "        self.ttl = Merge(self.dct)\n",
    "        for i, key in enumerate(self.title):\n",
    "            setattr(self.ttl, key, getattr(self, key))"
   ]
  }
 ],
 "metadata": {
  "kernelspec": {
   "display_name": "Python 3",
   "language": "python",
   "name": "python3"
  },
  "language_info": {
   "codemirror_mode": {
    "name": "ipython",
    "version": 3
   },
   "file_extension": ".py",
   "mimetype": "text/x-python",
   "name": "python",
   "nbconvert_exporter": "python",
   "pygments_lexer": "ipython3",
   "version": "3.7.6"
  }
 },
 "nbformat": 4,
 "nbformat_minor": 4
}
