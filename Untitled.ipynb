{
 "cells": [
  {
   "cell_type": "code",
   "execution_count": 3,
   "metadata": {},
   "outputs": [],
   "source": [
    "import pandas as pd\n",
    "from pandas import Series, DataFrame\n",
    "import numpy as np\n",
    "import PrjtCF_module as cf"
   ]
  },
  {
   "cell_type": "code",
   "execution_count": 5,
   "metadata": {},
   "outputs": [],
   "source": [
    "# 기간 Index 설정\n",
    "# prjt index : 사업기간 전 기간에 대한 index로 모델의 base가 되는 index\n",
    "# cstrn index : 공사기간에 대한 index로 착공일로부터 준공일까지의 기간에 대한 index\n",
    "# loan index : 대출기간에 대한 index로 대출 실행일로부터 대출 상환일 까지의 기간에 대한 index\n",
    "# sales index : 분양기간에 대한 index로 분양개시일로부터 분양 종료일 까지의 기간 index\n",
    "idx = cf.PrjtIndex(idxname=['prjt', 'cstrn', 'loan', 'sales'],\n",
    "                   start=['2021-08', '2021-10', '2021-10', '2021-12'],\n",
    "                   periods=[24+1, 18+1, 20+1, 16+1],\n",
    "                   freq='M')\n",
    "\n",
    "# 공정률 Series 설정 : cstrn index 기간 중 적용되는 기간별 공정률 설정\n",
    "idx.prcs = Series(np.ones(len(idx.cstrn)) / len(idx.cstrn),\n",
    "                  index=idx.cstrn.index)"
   ]
  },
  {
   "cell_type": "code",
   "execution_count": 6,
   "metadata": {},
   "outputs": [],
   "source": [
    "dct_cost = {}\n",
    "\n",
    "# 토지비: 최초 1회 지급\n",
    "lnd = cf.Account(idx)\n",
    "lnd.addscdd(idx.cstrn[0], 30_000)\n",
    "dct_cost['lnd'] = lnd\n",
    "\n",
    "# 공사비: 공정률에 따라 지급\n",
    "cstrn = cf.Account(idx)\n",
    "cstrn.addscdd(idx.cstrn.index, 50_000 * idx.prcs)\n",
    "dct_cost['cstrn'] = cstrn\n",
    "\n",
    "cost = cf.Merge(dct_cost)\n",
    "cost.lnd = cost.dct['lnd']\n",
    "cost.cstrn = cost.dct['cstrn']"
   ]
  },
  {
   "cell_type": "code",
   "execution_count": 10,
   "metadata": {},
   "outputs": [
    {
     "data": {
      "text/plain": [
       "<PrjtCF_module.account.Account at 0x7fc4cecda750>"
      ]
     },
     "execution_count": 10,
     "metadata": {},
     "output_type": "execute_result"
    }
   ],
   "source": [
    "cost['lnd']"
   ]
  },
  {
   "cell_type": "code",
   "execution_count": 17,
   "metadata": {},
   "outputs": [
    {
     "name": "stdout",
     "output_type": "stream",
     "text": [
      "lnd <PrjtCF_module.account.Account object at 0x7fc4cecda750>\n",
      "cstrn <PrjtCF_module.account.Account object at 0x7fc4cecda9d0>\n"
     ]
    }
   ],
   "source": [
    "for key, val in cost.dct.items():\n",
    "    print(key, val)"
   ]
  },
  {
   "cell_type": "code",
   "execution_count": 14,
   "metadata": {},
   "outputs": [
    {
     "data": {
      "text/plain": [
       "{'lnd': <PrjtCF_module.account.Account at 0x7fc4cecda750>,\n",
       " 'cstrn': <PrjtCF_module.account.Account at 0x7fc4cecda9d0>}"
      ]
     },
     "execution_count": 14,
     "metadata": {},
     "output_type": "execute_result"
    }
   ],
   "source": [
    "cost.dct"
   ]
  },
  {
   "cell_type": "code",
   "execution_count": 16,
   "metadata": {},
   "outputs": [],
   "source": [
    "dict?"
   ]
  },
  {
   "cell_type": "code",
   "execution_count": 22,
   "metadata": {},
   "outputs": [],
   "source": [
    "class cst_mngmnt:\n",
    "    def __init__(self, idxno, cost, loan):\n",
    "        self.idxno = idxno\n",
    "        self.cost = cost\n",
    "        self.loan = loan\n",
    "        self.set_cst_oprtg()\n",
    "        self.set_cst_loan()\n",
    "        self.set_cst_ttl()\n",
    "        \n",
    "    def set_cst_oprtg(self):\n",
    "        # 해당 인덱스 기간 중 cost계좌 상 지출이 예정되어 있는 금액\n",
    "        ttlsum = 0\n",
    "        for key, val in self.cost.dct.items():\n",
    "            val_scdd = val.add_scdd[self.idxno]\n",
    "            setattr(self, key, val_scdd)\n",
    "            ttlsum += val_scdd\n",
    "        self.cst_oprtg = ttlsum\n",
    "        \n",
    "    def set_cst_loan(self):\n",
    "        # 해당 인덱스 기간 중 loan계좌 상 지출이 예정되어 있는 IR 및 fee\n",
    "        ttlfee = 0\n",
    "        ttlIR = 0\n",
    "        for key, val in self.loan.dct.items():\n",
    "            fee_scdd = val.fee.add_scdd[self.idxno]\n",
    "            setattr(self, \"fee_\"+key, fee_scdd)\n",
    "            ttlfee += fee_scdd\n",
    "            \n",
    "            IR_scdd = -val.ntnl.bal_strt[self.idxno] * val.IR.rate\n",
    "            setattr(self, \"IR_\"+key, IR_scdd)\n",
    "            ttlIR += IR_scdd\n",
    "        self.cst_fnclfee = ttlfee\n",
    "        self.cst_fnclIR = ttlIR\n",
    "        self.cst_fncl = ttlfee + ttlIR\n",
    "        \n",
    "    def set_cst_ttl(self):\n",
    "        self.cst_ttl = self.cst_oprtg + self.cst_fncl\n",
    "        \n",
    "    def pay_oprtcst(self):\n",
    "        \"\"\"운영계좌에서 운영비용(cost) 지출\"\"\"\n",
    "        for key, acnt in self.cost.dct.items():\n",
    "            oprtg.send(self.idxno, getattr(self, key), acnt)\n",
    "            \n",
    "    def pay_fnclcst(self):\n",
    "        \"\"\"운영계좌에서 금융비용 지출\"\"\"\n",
    "        for key, acnt in self.loan.dct.items():\n",
    "            oprtg.send(self.idxno, getattr(self, \"fee_\"+key), acnt.fee)\n",
    "            oprtg.send(self.idxno, getattr(self, \"IR_\"+key), acnt.IR)"
   ]
  },
  {
   "cell_type": "code",
   "execution_count": 23,
   "metadata": {},
   "outputs": [],
   "source": [
    "k = cst_mngmnt(idx[0], cost)"
   ]
  },
  {
   "cell_type": "code",
   "execution_count": 30,
   "metadata": {},
   "outputs": [
    {
     "data": {
      "text/plain": [
       "{'cindex': <PrjtCF_module.index.Index at 0x7fc4cecda090>,\n",
       " 'index': array([datetime.date(2021, 8, 31), datetime.date(2021, 9, 30),\n",
       "        datetime.date(2021, 10, 31), datetime.date(2021, 11, 30),\n",
       "        datetime.date(2021, 12, 31), datetime.date(2022, 1, 31),\n",
       "        datetime.date(2022, 2, 28), datetime.date(2022, 3, 31),\n",
       "        datetime.date(2022, 4, 30), datetime.date(2022, 5, 31),\n",
       "        datetime.date(2022, 6, 30), datetime.date(2022, 7, 31),\n",
       "        datetime.date(2022, 8, 31), datetime.date(2022, 9, 30),\n",
       "        datetime.date(2022, 10, 31), datetime.date(2022, 11, 30),\n",
       "        datetime.date(2022, 12, 31), datetime.date(2023, 1, 31),\n",
       "        datetime.date(2023, 2, 28), datetime.date(2023, 3, 31),\n",
       "        datetime.date(2023, 4, 30), datetime.date(2023, 5, 31),\n",
       "        datetime.date(2023, 6, 30), datetime.date(2023, 7, 31),\n",
       "        datetime.date(2023, 8, 31)], dtype=object),\n",
       " 'title': None,\n",
       " 'tag': None,\n",
       " 'balstrt': 0,\n",
       " 'note': '',\n",
       " '_df':             add_scdd  add_scdd_cum  sub_scdd  sub_scdd_cum  bal_strt  amt_add  \\\n",
       " 2021-08-31       0.0           0.0       0.0           0.0       0.0      0.0   \n",
       " 2021-09-30       0.0           0.0       0.0           0.0       0.0      0.0   \n",
       " 2021-10-31   30000.0       30000.0       0.0           0.0       0.0      0.0   \n",
       " 2021-11-30       0.0       30000.0       0.0           0.0       0.0      0.0   \n",
       " 2021-12-31       0.0       30000.0       0.0           0.0       0.0      0.0   \n",
       " 2022-01-31       0.0       30000.0       0.0           0.0       0.0      0.0   \n",
       " 2022-02-28       0.0       30000.0       0.0           0.0       0.0      0.0   \n",
       " 2022-03-31       0.0       30000.0       0.0           0.0       0.0      0.0   \n",
       " 2022-04-30       0.0       30000.0       0.0           0.0       0.0      0.0   \n",
       " 2022-05-31       0.0       30000.0       0.0           0.0       0.0      0.0   \n",
       " 2022-06-30       0.0       30000.0       0.0           0.0       0.0      0.0   \n",
       " 2022-07-31       0.0       30000.0       0.0           0.0       0.0      0.0   \n",
       " 2022-08-31       0.0       30000.0       0.0           0.0       0.0      0.0   \n",
       " 2022-09-30       0.0       30000.0       0.0           0.0       0.0      0.0   \n",
       " 2022-10-31       0.0       30000.0       0.0           0.0       0.0      0.0   \n",
       " 2022-11-30       0.0       30000.0       0.0           0.0       0.0      0.0   \n",
       " 2022-12-31       0.0       30000.0       0.0           0.0       0.0      0.0   \n",
       " 2023-01-31       0.0       30000.0       0.0           0.0       0.0      0.0   \n",
       " 2023-02-28       0.0       30000.0       0.0           0.0       0.0      0.0   \n",
       " 2023-03-31       0.0       30000.0       0.0           0.0       0.0      0.0   \n",
       " 2023-04-30       0.0       30000.0       0.0           0.0       0.0      0.0   \n",
       " 2023-05-31       0.0       30000.0       0.0           0.0       0.0      0.0   \n",
       " 2023-06-30       0.0       30000.0       0.0           0.0       0.0      0.0   \n",
       " 2023-07-31       0.0       30000.0       0.0           0.0       0.0      0.0   \n",
       " 2023-08-31       0.0       30000.0       0.0           0.0       0.0      0.0   \n",
       " \n",
       "             amt_add_cum  amt_sub  amt_sub_cum  bal_end  add_rsdl_cum  \\\n",
       " 2021-08-31          0.0      0.0          0.0      0.0           0.0   \n",
       " 2021-09-30          0.0      0.0          0.0      0.0           0.0   \n",
       " 2021-10-31          0.0      0.0          0.0      0.0       30000.0   \n",
       " 2021-11-30          0.0      0.0          0.0      0.0       30000.0   \n",
       " 2021-12-31          0.0      0.0          0.0      0.0       30000.0   \n",
       " 2022-01-31          0.0      0.0          0.0      0.0       30000.0   \n",
       " 2022-02-28          0.0      0.0          0.0      0.0       30000.0   \n",
       " 2022-03-31          0.0      0.0          0.0      0.0       30000.0   \n",
       " 2022-04-30          0.0      0.0          0.0      0.0       30000.0   \n",
       " 2022-05-31          0.0      0.0          0.0      0.0       30000.0   \n",
       " 2022-06-30          0.0      0.0          0.0      0.0       30000.0   \n",
       " 2022-07-31          0.0      0.0          0.0      0.0       30000.0   \n",
       " 2022-08-31          0.0      0.0          0.0      0.0       30000.0   \n",
       " 2022-09-30          0.0      0.0          0.0      0.0       30000.0   \n",
       " 2022-10-31          0.0      0.0          0.0      0.0       30000.0   \n",
       " 2022-11-30          0.0      0.0          0.0      0.0       30000.0   \n",
       " 2022-12-31          0.0      0.0          0.0      0.0       30000.0   \n",
       " 2023-01-31          0.0      0.0          0.0      0.0       30000.0   \n",
       " 2023-02-28          0.0      0.0          0.0      0.0       30000.0   \n",
       " 2023-03-31          0.0      0.0          0.0      0.0       30000.0   \n",
       " 2023-04-30          0.0      0.0          0.0      0.0       30000.0   \n",
       " 2023-05-31          0.0      0.0          0.0      0.0       30000.0   \n",
       " 2023-06-30          0.0      0.0          0.0      0.0       30000.0   \n",
       " 2023-07-31          0.0      0.0          0.0      0.0       30000.0   \n",
       " 2023-08-31          0.0      0.0          0.0      0.0       30000.0   \n",
       " \n",
       "             sub_rsdl_cum  \n",
       " 2021-08-31           0.0  \n",
       " 2021-09-30           0.0  \n",
       " 2021-10-31           0.0  \n",
       " 2021-11-30           0.0  \n",
       " 2021-12-31           0.0  \n",
       " 2022-01-31           0.0  \n",
       " 2022-02-28           0.0  \n",
       " 2022-03-31           0.0  \n",
       " 2022-04-30           0.0  \n",
       " 2022-05-31           0.0  \n",
       " 2022-06-30           0.0  \n",
       " 2022-07-31           0.0  \n",
       " 2022-08-31           0.0  \n",
       " 2022-09-30           0.0  \n",
       " 2022-10-31           0.0  \n",
       " 2022-11-30           0.0  \n",
       " 2022-12-31           0.0  \n",
       " 2023-01-31           0.0  \n",
       " 2023-02-28           0.0  \n",
       " 2023-03-31           0.0  \n",
       " 2023-04-30           0.0  \n",
       " 2023-05-31           0.0  \n",
       " 2023-06-30           0.0  \n",
       " 2023-07-31           0.0  \n",
       " 2023-08-31           0.0  ,\n",
       " 'jnl': Empty DataFrame\n",
       " Columns: [amt_add, amt_sub, note]\n",
       " Index: [],\n",
       " 'add_scdd': <PrjtCF_module.account.Account.add_scdd at 0x7fc4cdb85f90>,\n",
       " 'add_scdd_cum': <PrjtCF_module.account.Account.add_scdd_cum at 0x7fc4ceaa4510>,\n",
       " 'sub_scdd': <PrjtCF_module.account.Account.sub_scdd at 0x7fc4cecda890>,\n",
       " 'sub_scdd_cum': <PrjtCF_module.account.Account.sub_scdd_cum at 0x7fc4cecda990>,\n",
       " 'bal_strt': <PrjtCF_module.account.Account.bal_strt at 0x7fc4cecd02d0>,\n",
       " 'amt_add': <PrjtCF_module.account.Account.amt_add at 0x7fc4ced271d0>,\n",
       " 'amt_add_cum': <PrjtCF_module.account.Account.amt_add_cum at 0x7fc4ced0b290>,\n",
       " 'amt_sub': <PrjtCF_module.account.Account.amt_sub at 0x7fc4ced34b10>,\n",
       " 'amt_sub_cum': <PrjtCF_module.account.Account.amt_sub_cum at 0x7fc4cecc2810>,\n",
       " 'bal_end': <PrjtCF_module.account.Account.bal_end at 0x7fc4cecc2f10>,\n",
       " 'add_rsdl_cum': <PrjtCF_module.account.Account.add_rsdl_cum at 0x7fc4ceaef650>,\n",
       " 'sub_rsdl_cum': <PrjtCF_module.account.Account.sub_rsdl_cum at 0x7fc4ceaef3d0>}"
      ]
     },
     "execution_count": 30,
     "metadata": {},
     "output_type": "execute_result"
    }
   ],
   "source": [
    "vars(cost['lnd'])"
   ]
  },
  {
   "cell_type": "code",
   "execution_count": 25,
   "metadata": {},
   "outputs": [
    {
     "data": {
      "text/plain": [
       "0.0"
      ]
     },
     "execution_count": 25,
     "metadata": {},
     "output_type": "execute_result"
    }
   ],
   "source": [
    "k.cstrn"
   ]
  },
  {
   "cell_type": "code",
   "execution_count": 26,
   "metadata": {},
   "outputs": [
    {
     "data": {
      "text/plain": [
       "0.0"
      ]
     },
     "execution_count": 26,
     "metadata": {},
     "output_type": "execute_result"
    }
   ],
   "source": [
    "k.ttl_scdd"
   ]
  },
  {
   "cell_type": "code",
   "execution_count": null,
   "metadata": {},
   "outputs": [],
   "source": []
  }
 ],
 "metadata": {
  "kernelspec": {
   "display_name": "Python 3",
   "language": "python",
   "name": "python3"
  },
  "language_info": {
   "codemirror_mode": {
    "name": "ipython",
    "version": 3
   },
   "file_extension": ".py",
   "mimetype": "text/x-python",
   "name": "python",
   "nbconvert_exporter": "python",
   "pygments_lexer": "ipython3",
   "version": "3.7.6"
  }
 },
 "nbformat": 4,
 "nbformat_minor": 4
}
