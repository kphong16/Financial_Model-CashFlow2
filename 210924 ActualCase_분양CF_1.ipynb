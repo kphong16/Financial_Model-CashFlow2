{
 "cells": [
  {
   "cell_type": "code",
   "execution_count": 1,
   "metadata": {},
   "outputs": [],
   "source": [
    "import importlib\n",
    "import pandas as pd\n",
    "from pandas import Series, DataFrame\n",
    "import numpy as np\n",
    "from datetime import datetime\n",
    "from datetime import date\n",
    "from datetime import timedelta"
   ]
  },
  {
   "cell_type": "code",
   "execution_count": 2,
   "metadata": {},
   "outputs": [],
   "source": [
    "import cafle as cf\n",
    "from cafle.genfunc import rounding as R"
   ]
  },
  {
   "cell_type": "code",
   "execution_count": 3,
   "metadata": {},
   "outputs": [],
   "source": [
    "# import cf.management as mng\n",
    "from cafle import management_actualcase1 as mng1"
   ]
  },
  {
   "cell_type": "code",
   "execution_count": 4,
   "metadata": {},
   "outputs": [
    {
     "name": "stdout",
     "output_type": "stream",
     "text": [
      "40 200\n"
     ]
    }
   ],
   "source": [
    "pd.options.display.max_columns = 40\n",
    "pd.options.display.max_rows = 200\n",
    "print(pd.get_option(\"display.max_columns\"), \n",
    "      pd.get_option(\"display.max_rows\"))"
   ]
  },
  {
   "cell_type": "markdown",
   "metadata": {},
   "source": [
    "# Introduction\n",
    "* This is an example created by applying an actual case."
   ]
  },
  {
   "cell_type": "markdown",
   "metadata": {},
   "source": [
    "# Initial Setting"
   ]
  },
  {
   "cell_type": "code",
   "execution_count": 5,
   "metadata": {},
   "outputs": [],
   "source": [
    "PY = 1/3.305785"
   ]
  },
  {
   "cell_type": "code",
   "execution_count": 6,
   "metadata": {},
   "outputs": [],
   "source": [
    "class Assumption:\n",
    "    def __init__(self):\n",
    "        pass\n",
    "    \n",
    "    def __getattr__(self, attr):\n",
    "        return self.__dict__[attr]\n",
    "    \n",
    "    def __getitem__(self, key):\n",
    "        return self.__dict__[key]\n",
    "astn = Assumption()"
   ]
  },
  {
   "cell_type": "code",
   "execution_count": 7,
   "metadata": {},
   "outputs": [],
   "source": [
    "class Assumption_sales:\n",
    "    def __init__(self):\n",
    "        self.prdtname = []\n",
    "        self.mtrx = DataFrame()\n",
    "        self.csh = {}\n",
    "        self.ctrt = {}\n",
    "        self.ctrt_ary = {}\n",
    "        \n",
    "    def iptctrt(self, prdt_name, tmpary):\n",
    "        tmp_idx = [x[0] for x in tmpary]\n",
    "        tmp_date = [idx.sales.__getitem__(x[0]) for x in tmpary]\n",
    "        tmp_rate = [x[1] for x in tmpary]\n",
    "        self.ctrt_ary[prdt_name] = tmpary\n",
    "        self.ctrt[prdt_name] = DataFrame({'date':tmp_date,\n",
    "                                        'rate':tmp_rate},\n",
    "                                       index=tmp_idx)\n",
    "        self.ctrt[prdt_name]['amt'] = self.ctrt[prdt_name]['rate'] \\\n",
    "                                      * self.mtrx.amt[prdt_name]\n",
    "\n",
    "    def print_ctrt(self):\n",
    "        print(\"Sales Contract Assumption\")\n",
    "        for key, val in self.ctrt.items():\n",
    "            print(\"\\n\\n\"+key)\n",
    "            display(R(val))\n",
    "\n",
    "    def __getattr__(self, attr):\n",
    "        return self.__dict__[attr]\n",
    "    \n",
    "    def __getitem__(self, key):\n",
    "        return self.__dict__[key]\n",
    "            \n",
    "astns = Assumption_sales()"
   ]
  },
  {
   "cell_type": "markdown",
   "metadata": {},
   "source": [
    "# Input Index Data"
   ]
  },
  {
   "cell_type": "code",
   "execution_count": 8,
   "metadata": {},
   "outputs": [],
   "source": [
    "# Set period index\n",
    "# prjt index : total project periods, and project base index\n",
    "# cstrn index : construction index\n",
    "# loan index : loan period index\n",
    "# sales index : sales period index\n",
    "\n",
    "tmp_col = ['idxname', 'start', 'periods']\n",
    "tmp_ary = [['prjt',  '2021-04',   54],\n",
    "           ['cstrn', '2022-03',   42],\n",
    "           ['loan',  '2021-05',   55],\n",
    "           ['sales', '2022-05',   40]]\n",
    "astn.index = DataFrame(tmp_ary, columns=tmp_col)\n",
    "\n",
    "idx = cf.PrjtIndex(idxname = list(astn.index.idxname),\n",
    "                   start = list(astn.index.start),\n",
    "                   periods = list(astn.index.periods + 1),\n",
    "                   freq = 'M')"
   ]
  },
  {
   "cell_type": "markdown",
   "metadata": {},
   "source": [
    "# Input Sales Data\n",
    "### 1) Sales Amount Matrix"
   ]
  },
  {
   "cell_type": "code",
   "execution_count": 9,
   "metadata": {
    "scrolled": false
   },
   "outputs": [
    {
     "data": {
      "text/html": [
       "<div>\n",
       "<style scoped>\n",
       "    .dataframe tbody tr th:only-of-type {\n",
       "        vertical-align: middle;\n",
       "    }\n",
       "\n",
       "    .dataframe tbody tr th {\n",
       "        vertical-align: top;\n",
       "    }\n",
       "\n",
       "    .dataframe thead th {\n",
       "        text-align: right;\n",
       "    }\n",
       "</style>\n",
       "<table border=\"1\" class=\"dataframe\">\n",
       "  <thead>\n",
       "    <tr style=\"text-align: right;\">\n",
       "      <th></th>\n",
       "      <th>byname</th>\n",
       "      <th>area_m2</th>\n",
       "      <th>area_py</th>\n",
       "      <th>prc_m2</th>\n",
       "      <th>prc_py</th>\n",
       "      <th>amt</th>\n",
       "    </tr>\n",
       "    <tr>\n",
       "      <th>prdtname</th>\n",
       "      <th></th>\n",
       "      <th></th>\n",
       "      <th></th>\n",
       "      <th></th>\n",
       "      <th></th>\n",
       "      <th></th>\n",
       "    </tr>\n",
       "  </thead>\n",
       "  <tbody>\n",
       "    <tr>\n",
       "      <th>lgstc</th>\n",
       "      <td>물류시설용지</td>\n",
       "      <td>244,377</td>\n",
       "      <td>73,924</td>\n",
       "      <td>4.6</td>\n",
       "      <td>1.4</td>\n",
       "      <td>103,494</td>\n",
       "    </tr>\n",
       "    <tr>\n",
       "      <th>cmcl</th>\n",
       "      <td>상류시설용지</td>\n",
       "      <td>34,926</td>\n",
       "      <td>10,565</td>\n",
       "      <td>9.6</td>\n",
       "      <td>2.9</td>\n",
       "      <td>30,639</td>\n",
       "    </tr>\n",
       "    <tr>\n",
       "      <th>hsg_sgl</th>\n",
       "      <td>단독주택</td>\n",
       "      <td>9,137</td>\n",
       "      <td>2,764</td>\n",
       "      <td>9.3</td>\n",
       "      <td>2.8</td>\n",
       "      <td>7,739</td>\n",
       "    </tr>\n",
       "    <tr>\n",
       "      <th>hsg_apt</th>\n",
       "      <td>공동주택</td>\n",
       "      <td>33,134</td>\n",
       "      <td>10,023</td>\n",
       "      <td>8.9</td>\n",
       "      <td>2.7</td>\n",
       "      <td>27,062</td>\n",
       "    </tr>\n",
       "    <tr>\n",
       "      <th>retail</th>\n",
       "      <td>상업시설용지</td>\n",
       "      <td>17,195</td>\n",
       "      <td>5,201</td>\n",
       "      <td>12.9</td>\n",
       "      <td>3.9</td>\n",
       "      <td>20,286</td>\n",
       "    </tr>\n",
       "    <tr>\n",
       "      <th>office</th>\n",
       "      <td>업무시설용지</td>\n",
       "      <td>6,151</td>\n",
       "      <td>1,861</td>\n",
       "      <td>12.9</td>\n",
       "      <td>3.9</td>\n",
       "      <td>7,257</td>\n",
       "    </tr>\n",
       "    <tr>\n",
       "      <th>parking</th>\n",
       "      <td>주차장용지</td>\n",
       "      <td>8,352</td>\n",
       "      <td>2,526</td>\n",
       "      <td>6.3</td>\n",
       "      <td>1.9</td>\n",
       "      <td>4,800</td>\n",
       "    </tr>\n",
       "    <tr>\n",
       "      <th>gasstn</th>\n",
       "      <td>주유소용지</td>\n",
       "      <td>2,400</td>\n",
       "      <td>726</td>\n",
       "      <td>8.6</td>\n",
       "      <td>2.6</td>\n",
       "      <td>1,888</td>\n",
       "    </tr>\n",
       "    <tr>\n",
       "      <th>rcclg</th>\n",
       "      <td>자원순환시설</td>\n",
       "      <td>10,000</td>\n",
       "      <td>3,025</td>\n",
       "      <td>9.3</td>\n",
       "      <td>2.8</td>\n",
       "      <td>8,470</td>\n",
       "    </tr>\n",
       "    <tr>\n",
       "      <th>power</th>\n",
       "      <td>발전시설용지</td>\n",
       "      <td>10,000</td>\n",
       "      <td>3,025</td>\n",
       "      <td>9.3</td>\n",
       "      <td>2.8</td>\n",
       "      <td>8,470</td>\n",
       "    </tr>\n",
       "    <tr>\n",
       "      <th>gsprfr</th>\n",
       "      <td>가스정압기</td>\n",
       "      <td>25</td>\n",
       "      <td>8</td>\n",
       "      <td>4.8</td>\n",
       "      <td>1.4</td>\n",
       "      <td>11</td>\n",
       "    </tr>\n",
       "  </tbody>\n",
       "</table>\n",
       "</div>"
      ],
      "text/plain": [
       "          byname  area_m2 area_py prc_m2 prc_py      amt\n",
       "prdtname                                                \n",
       "lgstc     물류시설용지  244,377  73,924    4.6    1.4  103,494\n",
       "cmcl      상류시설용지   34,926  10,565    9.6    2.9   30,639\n",
       "hsg_sgl     단독주택    9,137   2,764    9.3    2.8    7,739\n",
       "hsg_apt     공동주택   33,134  10,023    8.9    2.7   27,062\n",
       "retail    상업시설용지   17,195   5,201   12.9    3.9   20,286\n",
       "office    업무시설용지    6,151   1,861   12.9    3.9    7,257\n",
       "parking    주차장용지    8,352   2,526    6.3    1.9    4,800\n",
       "gasstn     주유소용지    2,400     726    8.6    2.6    1,888\n",
       "rcclg     자원순환시설   10,000   3,025    9.3    2.8    8,470\n",
       "power     발전시설용지   10,000   3,025    9.3    2.8    8,470\n",
       "gsprfr     가스정압기       25       8    4.8    1.4       11"
      ]
     },
     "execution_count": 9,
     "metadata": {},
     "output_type": "execute_result"
    }
   ],
   "source": [
    "# Sales Amount Matrix\n",
    "tmp_col = ['prdtname', 'area_m2',  'prc_py',  'byname']\n",
    "tmp_ary = [['lgstc',    244_377,     1.40,   '물류시설용지'],\n",
    "           ['cmcl',      34_926,     2.90,   '상류시설용지'],\n",
    "           ['hsg_sgl',    9_137,     2.80,   '단독주택'],\n",
    "           ['hsg_apt',   33_134,     2.70,   '공동주택'],\n",
    "           ['retail',    17_195,     3.90,   '상업시설용지'],\n",
    "           ['office',     6_151,     3.90,   '업무시설용지'],\n",
    "           ['parking',    8_352,     1.90,   '주차장용지'],\n",
    "           ['gasstn',     2_400,     2.60,   '주유소용지'],\n",
    "           ['rcclg',     10_000,     2.80,   '자원순환시설'],\n",
    "           ['power',     10_000,     2.80,   '발전시설용지'],\n",
    "           ['gsprfr',        25,     1.44,   '가스정압기'],\n",
    "           ]\n",
    "\n",
    "tmp_df = DataFrame(tmp_ary, columns=tmp_col)\n",
    "tmp_df.set_index('prdtname', inplace=True)\n",
    "tmp_df.loc[:,'area_py'] = tmp_df.area_m2 * PY\n",
    "tmp_df.loc[:,'prc_m2'] = tmp_df.prc_py / PY\n",
    "tmp_df.loc[:,'amt'] = tmp_df.area_py * tmp_df.prc_py\n",
    "tmp_df = tmp_df[['byname', 'area_m2', 'area_py', \\\n",
    "                'prc_m2', 'prc_py', 'amt']]\n",
    "\n",
    "astns.prdtname = [x[0] for x in tmp_ary]\n",
    "astns.mtrx = tmp_df\n",
    "R(astns.mtrx)"
   ]
  },
  {
   "cell_type": "markdown",
   "metadata": {},
   "source": [
    "### 2) Sales Contract Schedule"
   ]
  },
  {
   "cell_type": "code",
   "execution_count": 10,
   "metadata": {},
   "outputs": [],
   "source": [
    "# Sales Contract Schedule\n",
    "prdt_name = 'lgstc' # 물류시설용지\n",
    "tmp_ary = [[idx.sales.locno(2022, 11), 0.315],\n",
    "           [idx.sales.locno(2023, 5), 0.274],\n",
    "           [idx.sales.locno(2023, 11), 0.137],\n",
    "           [idx.sales.locno(2024, 5), 0.137],\n",
    "           [idx.sales.locno(2024, 11), 0.137]]\n",
    "astns.iptctrt(prdt_name, tmp_ary)\n",
    "\n",
    "prdt_name = 'cmcl' # 상류시설용지\n",
    "tmp_ary = [[idx.sales.locno(2022, 11), 0.150],\n",
    "           [idx.sales.locno(2023, 5), 0.200],\n",
    "           [idx.sales.locno(2023, 11), 0.300],\n",
    "           [idx.sales.locno(2024, 5), 0.300],\n",
    "           [idx.sales.locno(2024, 11), 0.050]]\n",
    "astns.iptctrt(prdt_name, tmp_ary)\n",
    "\n",
    "prdt_name = 'hsg_sgl' # 단독주택용지\n",
    "tmp_ary = [[idx.sales.locno(2022, 11), 0.300],\n",
    "           [idx.sales.locno(2023, 5), 0.300],\n",
    "           [idx.sales.locno(2023, 11), 0.200],\n",
    "           [idx.sales.locno(2024, 5), 0.200],\n",
    "           [idx.sales.locno(2024, 11), 0.000]]\n",
    "astns.iptctrt(prdt_name, tmp_ary)\n",
    "\n",
    "prdt_name = 'hsg_apt' # 공동주택용지\n",
    "tmp_ary = [[idx.sales.locno(2022, 11), 0.000],\n",
    "           [idx.sales.locno(2023, 5), 0.000],\n",
    "           [idx.sales.locno(2023, 11), 1.000],\n",
    "           [idx.sales.locno(2024, 5), 0.000],\n",
    "           [idx.sales.locno(2024, 11), 0.000]]\n",
    "astns.iptctrt(prdt_name, tmp_ary)\n",
    "\n",
    "prdt_name = 'retail' # 상업시설용지\n",
    "tmp_ary = [[idx.sales.locno(2022, 11), 0.000],\n",
    "           [idx.sales.locno(2023, 5), 0.250],\n",
    "           [idx.sales.locno(2023, 11), 0.300],\n",
    "           [idx.sales.locno(2024, 5), 0.300],\n",
    "           [idx.sales.locno(2024, 11), 0.150]]\n",
    "astns.iptctrt(prdt_name, tmp_ary)\n",
    "\n",
    "prdt_name = 'office' # 업무시설용지\n",
    "tmp_ary = [[idx.sales.locno(2022, 11), 0.000],\n",
    "           [idx.sales.locno(2023, 5), 0.500],\n",
    "           [idx.sales.locno(2023, 11), 0.500],\n",
    "           [idx.sales.locno(2024, 5), 0.000],\n",
    "           [idx.sales.locno(2024, 11), 0.000]]\n",
    "astns.iptctrt(prdt_name, tmp_ary)\n",
    "\n",
    "prdt_name = 'parking' # 주차장용지\n",
    "tmp_ary = [[idx.sales.locno(2022, 11), 0.000],\n",
    "           [idx.sales.locno(2023, 5), 0.000],\n",
    "           [idx.sales.locno(2023, 11), 0.500],\n",
    "           [idx.sales.locno(2024, 5), 0.500],\n",
    "           [idx.sales.locno(2024, 11), 0.000]]\n",
    "astns.iptctrt(prdt_name, tmp_ary)\n",
    "\n",
    "prdt_name = 'gasstn' # 주유소용지\n",
    "tmp_ary = [[idx.sales.locno(2022, 11), 0.000],\n",
    "           [idx.sales.locno(2023, 5), 0.000],\n",
    "           [idx.sales.locno(2023, 11), 1.000],\n",
    "           [idx.sales.locno(2024, 5), 0.000],\n",
    "           [idx.sales.locno(2024, 11), 0.000]]\n",
    "astns.iptctrt(prdt_name, tmp_ary)\n",
    "\n",
    "prdt_name = 'rcclg' # 자원순환시설용지\n",
    "tmp_ary = [[idx.sales.locno(2022, 11), 0.000],\n",
    "           [idx.sales.locno(2023, 5), 1.000],\n",
    "           [idx.sales.locno(2023, 11), 0.000],\n",
    "           [idx.sales.locno(2024, 5), 0.000],\n",
    "           [idx.sales.locno(2024, 11), 0.000]]\n",
    "astns.iptctrt(prdt_name, tmp_ary)\n",
    "\n",
    "prdt_name = 'power' # 발전시설용지\n",
    "tmp_ary = [[idx.sales.locno(2022, 11), 0.000],\n",
    "           [idx.sales.locno(2023, 5), 1.000],\n",
    "           [idx.sales.locno(2023, 11), 0.000],\n",
    "           [idx.sales.locno(2024, 5), 0.000],\n",
    "           [idx.sales.locno(2024, 11), 0.000]]\n",
    "astns.iptctrt(prdt_name, tmp_ary)\n",
    "\n",
    "prdt_name = 'gsprfr' # 가스정압기용지\n",
    "tmp_ary = [[idx.sales.locno(2022, 11), 0.000],\n",
    "           [idx.sales.locno(2023, 5), 0.000],\n",
    "           [idx.sales.locno(2023, 11), 0.000],\n",
    "           [idx.sales.locno(2024, 5), 0.000],\n",
    "           [idx.sales.locno(2024, 11), 1.000]]\n",
    "astns.iptctrt(prdt_name, tmp_ary)"
   ]
  },
  {
   "cell_type": "markdown",
   "metadata": {},
   "source": [
    "### 3) Sales Payment Schedule"
   ]
  },
  {
   "cell_type": "code",
   "execution_count": 11,
   "metadata": {},
   "outputs": [],
   "source": [
    "# Payment Schedule(deposit, middle payment, balance)\n",
    "astns.csh[0] = [[idx.sales.locno(2022, 11), 0.1],\n",
    "                [idx.sales.locno(2023,  5), 0.2],\n",
    "                [idx.sales.locno(2023, 11), 0.2],\n",
    "                [idx.sales.locno(2024,  5), 0.2],\n",
    "                [idx.sales.locno(2024, 11), 0.2],\n",
    "                [idx.sales.locno(2025,  9), 0.1]]\n",
    "astns.csh[1] = [[idx.sales.locno(2023,  5), 0.1],\n",
    "                [idx.sales.locno(2023, 10), 0.2],\n",
    "                [idx.sales.locno(2024,  3), 0.2],\n",
    "                [idx.sales.locno(2024,  8), 0.2],\n",
    "                [idx.sales.locno(2025,  1), 0.2],\n",
    "                [idx.sales.locno(2025,  9), 0.1]]\n",
    "astns.csh[2] = [[idx.sales.locno(2023, 11), 0.1],\n",
    "                [idx.sales.locno(2024,  3), 0.2],\n",
    "                [idx.sales.locno(2024,  7), 0.2],\n",
    "                [idx.sales.locno(2024, 11), 0.2],\n",
    "                [idx.sales.locno(2025,  3), 0.2],\n",
    "                [idx.sales.locno(2025,  9), 0.1]]\n",
    "astns.csh[3] = [[idx.sales.locno(2024,  5), 0.1],\n",
    "                [idx.sales.locno(2024,  8), 0.2],\n",
    "                [idx.sales.locno(2024, 11), 0.2],\n",
    "                [idx.sales.locno(2025,  2), 0.2],\n",
    "                [idx.sales.locno(2025,  5), 0.2],\n",
    "                [idx.sales.locno(2025,  9), 0.1]]\n",
    "astns.csh[4] = [[idx.sales.locno(2024, 11), 0.1],\n",
    "                [idx.sales.locno(2025,  1), 0.2],\n",
    "                [idx.sales.locno(2025,  3), 0.2],\n",
    "                [idx.sales.locno(2025,  5), 0.2],\n",
    "                [idx.sales.locno(2025,  7), 0.2],\n",
    "                [idx.sales.locno(2025,  9), 0.1]]"
   ]
  },
  {
   "cell_type": "markdown",
   "metadata": {},
   "source": [
    "### 4) Initialize Sales Setting"
   ]
  },
  {
   "cell_type": "code",
   "execution_count": 12,
   "metadata": {},
   "outputs": [],
   "source": [
    "sales = mng1.Intlz_sales_sellinlots(idx, idx.sales,\n",
    "                                   slsmtrx=astns.mtrx,\n",
    "                                   slsctrt=astns.ctrt,\n",
    "                                   slscsh=astns.csh)"
   ]
  },
  {
   "cell_type": "code",
   "execution_count": null,
   "metadata": {},
   "outputs": [],
   "source": []
  },
  {
   "cell_type": "code",
   "execution_count": null,
   "metadata": {},
   "outputs": [],
   "source": []
  },
  {
   "cell_type": "markdown",
   "metadata": {},
   "source": [
    "# Execution Cash Flow"
   ]
  },
  {
   "cell_type": "code",
   "execution_count": null,
   "metadata": {},
   "outputs": [],
   "source": [
    "acc = mng1.Intlz_accounts(idx, ['oprtg', 'sales', 'repay'])"
   ]
  },
  {
   "cell_type": "code",
   "execution_count": null,
   "metadata": {},
   "outputs": [],
   "source": [
    "# Execute cash flow\n",
    "for idxno in idx.index:\n",
    "    \n",
    "    \n",
    "    #### Sales ####\n",
    "    # 분양수입대금 sales schedule에 따라 운영계좌로 이체\n",
    "    "
   ]
  }
 ],
 "metadata": {
  "kernelspec": {
   "display_name": "Python 3",
   "language": "python",
   "name": "python3"
  },
  "language_info": {
   "codemirror_mode": {
    "name": "ipython",
    "version": 3
   },
   "file_extension": ".py",
   "mimetype": "text/x-python",
   "name": "python",
   "nbconvert_exporter": "python",
   "pygments_lexer": "ipython3",
   "version": "3.7.6"
  }
 },
 "nbformat": 4,
 "nbformat_minor": 4
}
